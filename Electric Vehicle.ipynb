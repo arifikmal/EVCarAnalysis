{
 "cells": [
  {
   "cell_type": "code",
   "execution_count": 29,
   "id": "efd81dc9",
   "metadata": {},
   "outputs": [],
   "source": [
    "import pandas as pd\n",
    "import numpy as np\n",
    "import matplotlib.pyplot as plt\n",
    "import plotly.express as px\n",
    "import seaborn as sns"
   ]
  },
  {
   "cell_type": "markdown",
   "id": "3f0b4afd",
   "metadata": {},
   "source": [
    "# Read the CSV file"
   ]
  },
  {
   "cell_type": "code",
   "execution_count": 14,
   "id": "9b60062c",
   "metadata": {},
   "outputs": [
    {
     "data": {
      "text/html": [
       "<div>\n",
       "<style scoped>\n",
       "    .dataframe tbody tr th:only-of-type {\n",
       "        vertical-align: middle;\n",
       "    }\n",
       "\n",
       "    .dataframe tbody tr th {\n",
       "        vertical-align: top;\n",
       "    }\n",
       "\n",
       "    .dataframe thead th {\n",
       "        text-align: right;\n",
       "    }\n",
       "</style>\n",
       "<table border=\"1\" class=\"dataframe\">\n",
       "  <thead>\n",
       "    <tr style=\"text-align: right;\">\n",
       "      <th></th>\n",
       "      <th>id</th>\n",
       "      <th>Make</th>\n",
       "      <th>link</th>\n",
       "      <th>City - Cold Weather</th>\n",
       "      <th>Highway - Cold Weather</th>\n",
       "      <th>Combined - Cold Weather</th>\n",
       "      <th>City - Mild Weather</th>\n",
       "      <th>Highway - Mild Weather</th>\n",
       "      <th>Combined - Mild Weather</th>\n",
       "      <th>Acceleration 0 - 100 km/h</th>\n",
       "      <th>...</th>\n",
       "      <th>Charge Speed</th>\n",
       "      <th>Fastcharge Speed</th>\n",
       "      <th>Length</th>\n",
       "      <th>Width</th>\n",
       "      <th>Height</th>\n",
       "      <th>Wheelbase</th>\n",
       "      <th>Gross Vehicle Weight (GVWR)</th>\n",
       "      <th>Max. Payload</th>\n",
       "      <th>Cargo Volume</th>\n",
       "      <th>Seats</th>\n",
       "    </tr>\n",
       "  </thead>\n",
       "  <tbody>\n",
       "    <tr>\n",
       "      <th>0</th>\n",
       "      <td>1647</td>\n",
       "      <td>Genesis</td>\n",
       "      <td>https://ev-database.org/car/1647/Genesis-GV60-...</td>\n",
       "      <td>390</td>\n",
       "      <td>275</td>\n",
       "      <td>330</td>\n",
       "      <td>575</td>\n",
       "      <td>355</td>\n",
       "      <td>445</td>\n",
       "      <td>7.8</td>\n",
       "      <td>...</td>\n",
       "      <td>49</td>\n",
       "      <td>1020</td>\n",
       "      <td>4515</td>\n",
       "      <td>1890</td>\n",
       "      <td>1580</td>\n",
       "      <td>2900</td>\n",
       "      <td>2495</td>\n",
       "      <td>595</td>\n",
       "      <td>432</td>\n",
       "      <td>5</td>\n",
       "    </tr>\n",
       "    <tr>\n",
       "      <th>1</th>\n",
       "      <td>1493</td>\n",
       "      <td>Mercedes</td>\n",
       "      <td>https://ev-database.org/car/1493/Mercedes-EQB-...</td>\n",
       "      <td>330</td>\n",
       "      <td>235</td>\n",
       "      <td>280</td>\n",
       "      <td>480</td>\n",
       "      <td>300</td>\n",
       "      <td>375</td>\n",
       "      <td>6.2</td>\n",
       "      <td>...</td>\n",
       "      <td>46</td>\n",
       "      <td>470</td>\n",
       "      <td>4684</td>\n",
       "      <td>1834</td>\n",
       "      <td>1701</td>\n",
       "      <td>2829</td>\n",
       "      <td>2580</td>\n",
       "      <td>480</td>\n",
       "      <td>495</td>\n",
       "      <td>7</td>\n",
       "    </tr>\n",
       "    <tr>\n",
       "      <th>2</th>\n",
       "      <td>1229</td>\n",
       "      <td>Porsche</td>\n",
       "      <td>https://ev-database.org/car/1229/Porsche-Tayca...</td>\n",
       "      <td>400</td>\n",
       "      <td>305</td>\n",
       "      <td>350</td>\n",
       "      <td>580</td>\n",
       "      <td>385</td>\n",
       "      <td>470</td>\n",
       "      <td>3.2</td>\n",
       "      <td>...</td>\n",
       "      <td>46</td>\n",
       "      <td>1020</td>\n",
       "      <td>4963</td>\n",
       "      <td>1966</td>\n",
       "      <td>1381</td>\n",
       "      <td>2900</td>\n",
       "      <td>2880</td>\n",
       "      <td>575</td>\n",
       "      <td>366</td>\n",
       "      <td>4</td>\n",
       "    </tr>\n",
       "    <tr>\n",
       "      <th>3</th>\n",
       "      <td>1252</td>\n",
       "      <td>BMW</td>\n",
       "      <td>https://ev-database.org/car/1252/BMW-i4-eDrive40</td>\n",
       "      <td>445</td>\n",
       "      <td>340</td>\n",
       "      <td>390</td>\n",
       "      <td>670</td>\n",
       "      <td>440</td>\n",
       "      <td>540</td>\n",
       "      <td>5.7</td>\n",
       "      <td>...</td>\n",
       "      <td>54</td>\n",
       "      <td>730</td>\n",
       "      <td>4783</td>\n",
       "      <td>1852</td>\n",
       "      <td>1448</td>\n",
       "      <td>2856</td>\n",
       "      <td>2605</td>\n",
       "      <td>555</td>\n",
       "      <td>470</td>\n",
       "      <td>5</td>\n",
       "    </tr>\n",
       "    <tr>\n",
       "      <th>4</th>\n",
       "      <td>1534</td>\n",
       "      <td>Volkswagen</td>\n",
       "      <td>https://ev-database.org/car/1534/Volkswagen-ID...</td>\n",
       "      <td>440</td>\n",
       "      <td>320</td>\n",
       "      <td>380</td>\n",
       "      <td>660</td>\n",
       "      <td>415</td>\n",
       "      <td>520</td>\n",
       "      <td>7.9</td>\n",
       "      <td>...</td>\n",
       "      <td>55</td>\n",
       "      <td>570</td>\n",
       "      <td>4261</td>\n",
       "      <td>1809</td>\n",
       "      <td>1568</td>\n",
       "      <td>2771</td>\n",
       "      <td>2300</td>\n",
       "      <td>447</td>\n",
       "      <td>385</td>\n",
       "      <td>5</td>\n",
       "    </tr>\n",
       "  </tbody>\n",
       "</table>\n",
       "<p>5 rows × 27 columns</p>\n",
       "</div>"
      ],
      "text/plain": [
       "     id        Make                                               link  \\\n",
       "0  1647     Genesis  https://ev-database.org/car/1647/Genesis-GV60-...   \n",
       "1  1493    Mercedes  https://ev-database.org/car/1493/Mercedes-EQB-...   \n",
       "2  1229     Porsche  https://ev-database.org/car/1229/Porsche-Tayca...   \n",
       "3  1252         BMW   https://ev-database.org/car/1252/BMW-i4-eDrive40   \n",
       "4  1534  Volkswagen  https://ev-database.org/car/1534/Volkswagen-ID...   \n",
       "\n",
       "   City - Cold Weather  Highway - Cold Weather  Combined - Cold Weather  \\\n",
       "0                  390                     275                      330   \n",
       "1                  330                     235                      280   \n",
       "2                  400                     305                      350   \n",
       "3                  445                     340                      390   \n",
       "4                  440                     320                      380   \n",
       "\n",
       "   City - Mild Weather  Highway - Mild Weather  Combined - Mild Weather  \\\n",
       "0                  575                     355                      445   \n",
       "1                  480                     300                      375   \n",
       "2                  580                     385                      470   \n",
       "3                  670                     440                      540   \n",
       "4                  660                     415                      520   \n",
       "\n",
       "   Acceleration 0 - 100 km/h  ...  Charge Speed  Fastcharge Speed  Length  \\\n",
       "0                        7.8  ...            49              1020    4515   \n",
       "1                        6.2  ...            46               470    4684   \n",
       "2                        3.2  ...            46              1020    4963   \n",
       "3                        5.7  ...            54               730    4783   \n",
       "4                        7.9  ...            55               570    4261   \n",
       "\n",
       "   Width Height  Wheelbase  Gross Vehicle Weight (GVWR)  Max. Payload  \\\n",
       "0   1890   1580       2900                         2495           595   \n",
       "1   1834   1701       2829                         2580           480   \n",
       "2   1966   1381       2900                         2880           575   \n",
       "3   1852   1448       2856                         2605           555   \n",
       "4   1809   1568       2771                         2300           447   \n",
       "\n",
       "   Cargo Volume  Seats  \n",
       "0           432      5  \n",
       "1           495      7  \n",
       "2           366      4  \n",
       "3           470      5  \n",
       "4           385      5  \n",
       "\n",
       "[5 rows x 27 columns]"
      ]
     },
     "execution_count": 14,
     "metadata": {},
     "output_type": "execute_result"
    }
   ],
   "source": [
    "data = pd.read_csv(r'C:\\Users\\muhda\\Downloads\\pythonproject\\evdataset.csv')\n",
    "data.head()"
   ]
  },
  {
   "cell_type": "markdown",
   "id": "2ba24040",
   "metadata": {},
   "source": [
    "# Data types in each column"
   ]
  },
  {
   "cell_type": "code",
   "execution_count": 15,
   "id": "aac79ba0",
   "metadata": {},
   "outputs": [
    {
     "data": {
      "text/plain": [
       "id                               int64\n",
       "Make                            object\n",
       "link                            object\n",
       "City - Cold Weather              int64\n",
       "Highway - Cold Weather           int64\n",
       "Combined - Cold Weather          int64\n",
       "City - Mild Weather              int64\n",
       "Highway - Mild Weather           int64\n",
       "Combined - Mild Weather          int64\n",
       "Acceleration 0 - 100 km/h      float64\n",
       "Top Speed                        int64\n",
       "Electric Range                   int64\n",
       "Total Power                      int64\n",
       "Total Torque                     int64\n",
       "Drive                           object\n",
       "Battery Capacity               float64\n",
       "Charge Power                   float64\n",
       "Charge Speed                     int64\n",
       "Fastcharge Speed                 int64\n",
       "Length                           int64\n",
       "Width                            int64\n",
       "Height                           int64\n",
       "Wheelbase                        int64\n",
       "Gross Vehicle Weight (GVWR)      int64\n",
       "Max. Payload                     int64\n",
       "Cargo Volume                     int64\n",
       "Seats                            int64\n",
       "dtype: object"
      ]
     },
     "execution_count": 15,
     "metadata": {},
     "output_type": "execute_result"
    }
   ],
   "source": [
    "data.dtypes"
   ]
  },
  {
   "cell_type": "markdown",
   "id": "45ca9564",
   "metadata": {},
   "source": [
    "# Top 5 purchase car brand"
   ]
  },
  {
   "cell_type": "code",
   "execution_count": 16,
   "id": "c373ca1e",
   "metadata": {},
   "outputs": [
    {
     "data": {
      "text/plain": [
       "array(['Genesis', 'Mercedes', 'Porsche', 'BMW', 'Volkswagen', 'CUPRA',\n",
       "       'Skoda', 'MG', 'Volvo', 'Fiat', 'Smart', 'Hyundai', 'Peugeot',\n",
       "       'Citroen', 'Audi', 'Polestar', 'Toyota', 'Kia', 'DS', 'Ford',\n",
       "       'Honda', 'JAC', 'Nissan', 'Renault', 'Opel', 'Hongqi', 'Lexus',\n",
       "       'Dacia', 'Mazda', 'Seres', 'Tesla', 'Jaguar', 'Mini', 'Subaru'],\n",
       "      dtype=object)"
      ]
     },
     "execution_count": 16,
     "metadata": {},
     "output_type": "execute_result"
    }
   ],
   "source": [
    "data[\"Make\"].unique()"
   ]
  },
  {
   "cell_type": "code",
   "execution_count": 17,
   "id": "977ee9a1",
   "metadata": {},
   "outputs": [
    {
     "data": {
      "text/plain": [
       "id                             194\n",
       "Make                            34\n",
       "link                           194\n",
       "City - Cold Weather             64\n",
       "Highway - Cold Weather          52\n",
       "Combined - Cold Weather         57\n",
       "City - Mild Weather             82\n",
       "Highway - Mild Weather          59\n",
       "Combined - Mild Weather         67\n",
       "Acceleration 0 - 100 km/h       72\n",
       "Top Speed                       29\n",
       "Electric Range                  66\n",
       "Total Power                     65\n",
       "Total Torque                    69\n",
       "Drive                            3\n",
       "Battery Capacity                49\n",
       "Charge Power                     5\n",
       "Charge Speed                    37\n",
       "Fastcharge Speed                69\n",
       "Length                          74\n",
       "Width                           51\n",
       "Height                          76\n",
       "Wheelbase                       54\n",
       "Gross Vehicle Weight (GVWR)    122\n",
       "Max. Payload                   110\n",
       "Cargo Volume                    74\n",
       "Seats                            5\n",
       "dtype: int64"
      ]
     },
     "execution_count": 17,
     "metadata": {},
     "output_type": "execute_result"
    }
   ],
   "source": [
    "data.nunique()"
   ]
  },
  {
   "cell_type": "code",
   "execution_count": 37,
   "id": "f68add19",
   "metadata": {},
   "outputs": [
    {
     "data": {
      "image/png": "[encoded data removed]",
      "text/plain": [
       "<Figure size 576x720 with 1 Axes>"
      ]
     },
     "metadata": {
      "needs_background": "light"
     },
     "output_type": "display_data"
    }
   ],
   "source": [
    "plt.figure(figsize=(8,10))\n",
    "sns.countplot(y=\"Make\", data=data,label=\"Number of cars by brand\",palette='Reds_r',order=data['Make'].value_counts().index)\n",
    "plt.show()"
   ]
  },
  {
   "cell_type": "code",
   "execution_count": 18,
   "id": "1d6a7183",
   "metadata": {},
   "outputs": [
    {
     "data": {
      "image/png": "[encoded data removed]",
      "text/plain": [
       "<Figure size 360x360 with 1 Axes>"
      ]
     },
     "metadata": {},
     "output_type": "display_data"
    }
   ],
   "source": [
    "a = data['Make'].value_counts().head()\n",
    "index = a.index\n",
    "sources = a.values\n",
    "custom_colors = ['skyblue', 'yellow', 'red', 'blue', 'tomato']\n",
    "plt.figure(figsize=(5,5))\n",
    "plt.pie(sources, labels=index, colors=custom_colors)\n",
    "central_circle = plt.Circle((0,0), 0.5,color='white')\n",
    "fig = plt.gcf()\n",
    "fig.gca().add_artist(central_circle)\n",
    "plt.rc('font',size=12)\n",
    "plt.title(\"Top 5 EV Car Brands\", fontsize=20)\n",
    "plt.show()"
   ]
  },
  {
   "cell_type": "markdown",
   "id": "a58894c0",
   "metadata": {},
   "source": [
    "# Charge Speed above average"
   ]
  },
  {
   "cell_type": "code",
   "execution_count": 19,
   "id": "170ebdc6",
   "metadata": {},
   "outputs": [
    {
     "data": {
      "text/plain": [
       "44.396907216494846"
      ]
     },
     "execution_count": 19,
     "metadata": {},
     "output_type": "execute_result"
    }
   ],
   "source": [
    "data['Charge Speed'].mean()"
   ]
  },
  {
   "cell_type": "code",
   "execution_count": 20,
   "id": "b9b68b25",
   "metadata": {},
   "outputs": [
    {
     "data": {
      "text/html": [
       "<div>\n",
       "<style scoped>\n",
       "    .dataframe tbody tr th:only-of-type {\n",
       "        vertical-align: middle;\n",
       "    }\n",
       "\n",
       "    .dataframe tbody tr th {\n",
       "        vertical-align: top;\n",
       "    }\n",
       "\n",
       "    .dataframe thead th {\n",
       "        text-align: right;\n",
       "    }\n",
       "</style>\n",
       "<table border=\"1\" class=\"dataframe\">\n",
       "  <thead>\n",
       "    <tr style=\"text-align: right;\">\n",
       "      <th></th>\n",
       "      <th>id</th>\n",
       "      <th>Make</th>\n",
       "      <th>link</th>\n",
       "      <th>City - Cold Weather</th>\n",
       "      <th>Highway - Cold Weather</th>\n",
       "      <th>Combined - Cold Weather</th>\n",
       "      <th>City - Mild Weather</th>\n",
       "      <th>Highway - Mild Weather</th>\n",
       "      <th>Combined - Mild Weather</th>\n",
       "      <th>Acceleration 0 - 100 km/h</th>\n",
       "      <th>...</th>\n",
       "      <th>Charge Speed</th>\n",
       "      <th>Fastcharge Speed</th>\n",
       "      <th>Length</th>\n",
       "      <th>Width</th>\n",
       "      <th>Height</th>\n",
       "      <th>Wheelbase</th>\n",
       "      <th>Gross Vehicle Weight (GVWR)</th>\n",
       "      <th>Max. Payload</th>\n",
       "      <th>Cargo Volume</th>\n",
       "      <th>Seats</th>\n",
       "    </tr>\n",
       "  </thead>\n",
       "  <tbody>\n",
       "    <tr>\n",
       "      <th>0</th>\n",
       "      <td>1647</td>\n",
       "      <td>Genesis</td>\n",
       "      <td>https://ev-database.org/car/1647/Genesis-GV60-...</td>\n",
       "      <td>390</td>\n",
       "      <td>275</td>\n",
       "      <td>330</td>\n",
       "      <td>575</td>\n",
       "      <td>355</td>\n",
       "      <td>445</td>\n",
       "      <td>7.8</td>\n",
       "      <td>...</td>\n",
       "      <td>49</td>\n",
       "      <td>1020</td>\n",
       "      <td>4515</td>\n",
       "      <td>1890</td>\n",
       "      <td>1580</td>\n",
       "      <td>2900</td>\n",
       "      <td>2495</td>\n",
       "      <td>595</td>\n",
       "      <td>432</td>\n",
       "      <td>5</td>\n",
       "    </tr>\n",
       "    <tr>\n",
       "      <th>1</th>\n",
       "      <td>1493</td>\n",
       "      <td>Mercedes</td>\n",
       "      <td>https://ev-database.org/car/1493/Mercedes-EQB-...</td>\n",
       "      <td>330</td>\n",
       "      <td>235</td>\n",
       "      <td>280</td>\n",
       "      <td>480</td>\n",
       "      <td>300</td>\n",
       "      <td>375</td>\n",
       "      <td>6.2</td>\n",
       "      <td>...</td>\n",
       "      <td>46</td>\n",
       "      <td>470</td>\n",
       "      <td>4684</td>\n",
       "      <td>1834</td>\n",
       "      <td>1701</td>\n",
       "      <td>2829</td>\n",
       "      <td>2580</td>\n",
       "      <td>480</td>\n",
       "      <td>495</td>\n",
       "      <td>7</td>\n",
       "    </tr>\n",
       "    <tr>\n",
       "      <th>2</th>\n",
       "      <td>1229</td>\n",
       "      <td>Porsche</td>\n",
       "      <td>https://ev-database.org/car/1229/Porsche-Tayca...</td>\n",
       "      <td>400</td>\n",
       "      <td>305</td>\n",
       "      <td>350</td>\n",
       "      <td>580</td>\n",
       "      <td>385</td>\n",
       "      <td>470</td>\n",
       "      <td>3.2</td>\n",
       "      <td>...</td>\n",
       "      <td>46</td>\n",
       "      <td>1020</td>\n",
       "      <td>4963</td>\n",
       "      <td>1966</td>\n",
       "      <td>1381</td>\n",
       "      <td>2900</td>\n",
       "      <td>2880</td>\n",
       "      <td>575</td>\n",
       "      <td>366</td>\n",
       "      <td>4</td>\n",
       "    </tr>\n",
       "    <tr>\n",
       "      <th>3</th>\n",
       "      <td>1252</td>\n",
       "      <td>BMW</td>\n",
       "      <td>https://ev-database.org/car/1252/BMW-i4-eDrive40</td>\n",
       "      <td>445</td>\n",
       "      <td>340</td>\n",
       "      <td>390</td>\n",
       "      <td>670</td>\n",
       "      <td>440</td>\n",
       "      <td>540</td>\n",
       "      <td>5.7</td>\n",
       "      <td>...</td>\n",
       "      <td>54</td>\n",
       "      <td>730</td>\n",
       "      <td>4783</td>\n",
       "      <td>1852</td>\n",
       "      <td>1448</td>\n",
       "      <td>2856</td>\n",
       "      <td>2605</td>\n",
       "      <td>555</td>\n",
       "      <td>470</td>\n",
       "      <td>5</td>\n",
       "    </tr>\n",
       "    <tr>\n",
       "      <th>4</th>\n",
       "      <td>1534</td>\n",
       "      <td>Volkswagen</td>\n",
       "      <td>https://ev-database.org/car/1534/Volkswagen-ID...</td>\n",
       "      <td>440</td>\n",
       "      <td>320</td>\n",
       "      <td>380</td>\n",
       "      <td>660</td>\n",
       "      <td>415</td>\n",
       "      <td>520</td>\n",
       "      <td>7.9</td>\n",
       "      <td>...</td>\n",
       "      <td>55</td>\n",
       "      <td>570</td>\n",
       "      <td>4261</td>\n",
       "      <td>1809</td>\n",
       "      <td>1568</td>\n",
       "      <td>2771</td>\n",
       "      <td>2300</td>\n",
       "      <td>447</td>\n",
       "      <td>385</td>\n",
       "      <td>5</td>\n",
       "    </tr>\n",
       "    <tr>\n",
       "      <th>...</th>\n",
       "      <td>...</td>\n",
       "      <td>...</td>\n",
       "      <td>...</td>\n",
       "      <td>...</td>\n",
       "      <td>...</td>\n",
       "      <td>...</td>\n",
       "      <td>...</td>\n",
       "      <td>...</td>\n",
       "      <td>...</td>\n",
       "      <td>...</td>\n",
       "      <td>...</td>\n",
       "      <td>...</td>\n",
       "      <td>...</td>\n",
       "      <td>...</td>\n",
       "      <td>...</td>\n",
       "      <td>...</td>\n",
       "      <td>...</td>\n",
       "      <td>...</td>\n",
       "      <td>...</td>\n",
       "      <td>...</td>\n",
       "      <td>...</td>\n",
       "    </tr>\n",
       "    <tr>\n",
       "      <th>187</th>\n",
       "      <td>1394</td>\n",
       "      <td>Porsche</td>\n",
       "      <td>https://ev-database.org/car/1394/Porsche-Tayca...</td>\n",
       "      <td>450</td>\n",
       "      <td>345</td>\n",
       "      <td>400</td>\n",
       "      <td>670</td>\n",
       "      <td>450</td>\n",
       "      <td>545</td>\n",
       "      <td>5.4</td>\n",
       "      <td>...</td>\n",
       "      <td>53</td>\n",
       "      <td>1170</td>\n",
       "      <td>4963</td>\n",
       "      <td>1966</td>\n",
       "      <td>1394</td>\n",
       "      <td>2900</td>\n",
       "      <td>2795</td>\n",
       "      <td>665</td>\n",
       "      <td>407</td>\n",
       "      <td>4</td>\n",
       "    </tr>\n",
       "    <tr>\n",
       "      <th>188</th>\n",
       "      <td>1557</td>\n",
       "      <td>Volkswagen</td>\n",
       "      <td>https://ev-database.org/car/1557/Volkswagen-ID...</td>\n",
       "      <td>420</td>\n",
       "      <td>305</td>\n",
       "      <td>360</td>\n",
       "      <td>620</td>\n",
       "      <td>395</td>\n",
       "      <td>490</td>\n",
       "      <td>8.4</td>\n",
       "      <td>...</td>\n",
       "      <td>52</td>\n",
       "      <td>540</td>\n",
       "      <td>4599</td>\n",
       "      <td>1852</td>\n",
       "      <td>1615</td>\n",
       "      <td>2771</td>\n",
       "      <td>2540</td>\n",
       "      <td>495</td>\n",
       "      <td>549</td>\n",
       "      <td>5</td>\n",
       "    </tr>\n",
       "    <tr>\n",
       "      <th>189</th>\n",
       "      <td>1116</td>\n",
       "      <td>Porsche</td>\n",
       "      <td>https://ev-database.org/car/1116/Porsche-Tayca...</td>\n",
       "      <td>390</td>\n",
       "      <td>290</td>\n",
       "      <td>340</td>\n",
       "      <td>560</td>\n",
       "      <td>370</td>\n",
       "      <td>450</td>\n",
       "      <td>2.8</td>\n",
       "      <td>...</td>\n",
       "      <td>45</td>\n",
       "      <td>980</td>\n",
       "      <td>4963</td>\n",
       "      <td>1966</td>\n",
       "      <td>1378</td>\n",
       "      <td>2900</td>\n",
       "      <td>2870</td>\n",
       "      <td>575</td>\n",
       "      <td>366</td>\n",
       "      <td>4</td>\n",
       "    </tr>\n",
       "    <tr>\n",
       "      <th>190</th>\n",
       "      <td>1533</td>\n",
       "      <td>Volkswagen</td>\n",
       "      <td>https://ev-database.org/car/1533/Volkswagen-ID...</td>\n",
       "      <td>440</td>\n",
       "      <td>320</td>\n",
       "      <td>380</td>\n",
       "      <td>660</td>\n",
       "      <td>415</td>\n",
       "      <td>515</td>\n",
       "      <td>7.9</td>\n",
       "      <td>...</td>\n",
       "      <td>55</td>\n",
       "      <td>570</td>\n",
       "      <td>4261</td>\n",
       "      <td>1809</td>\n",
       "      <td>1568</td>\n",
       "      <td>2771</td>\n",
       "      <td>2280</td>\n",
       "      <td>420</td>\n",
       "      <td>385</td>\n",
       "      <td>4</td>\n",
       "    </tr>\n",
       "    <tr>\n",
       "      <th>192</th>\n",
       "      <td>1492</td>\n",
       "      <td>Audi</td>\n",
       "      <td>https://ev-database.org/car/1492/Audi-Q4-Sport...</td>\n",
       "      <td>395</td>\n",
       "      <td>290</td>\n",
       "      <td>340</td>\n",
       "      <td>580</td>\n",
       "      <td>370</td>\n",
       "      <td>460</td>\n",
       "      <td>6.2</td>\n",
       "      <td>...</td>\n",
       "      <td>49</td>\n",
       "      <td>500</td>\n",
       "      <td>4588</td>\n",
       "      <td>1865</td>\n",
       "      <td>1614</td>\n",
       "      <td>2764</td>\n",
       "      <td>2715</td>\n",
       "      <td>575</td>\n",
       "      <td>535</td>\n",
       "      <td>5</td>\n",
       "    </tr>\n",
       "  </tbody>\n",
       "</table>\n",
       "<p>110 rows × 27 columns</p>\n",
       "</div>"
      ],
      "text/plain": [
       "       id        Make                                               link  \\\n",
       "0    1647     Genesis  https://ev-database.org/car/1647/Genesis-GV60-...   \n",
       "1    1493    Mercedes  https://ev-database.org/car/1493/Mercedes-EQB-...   \n",
       "2    1229     Porsche  https://ev-database.org/car/1229/Porsche-Tayca...   \n",
       "3    1252         BMW   https://ev-database.org/car/1252/BMW-i4-eDrive40   \n",
       "4    1534  Volkswagen  https://ev-database.org/car/1534/Volkswagen-ID...   \n",
       "..    ...         ...                                                ...   \n",
       "187  1394     Porsche  https://ev-database.org/car/1394/Porsche-Tayca...   \n",
       "188  1557  Volkswagen  https://ev-database.org/car/1557/Volkswagen-ID...   \n",
       "189  1116     Porsche  https://ev-database.org/car/1116/Porsche-Tayca...   \n",
       "190  1533  Volkswagen  https://ev-database.org/car/1533/Volkswagen-ID...   \n",
       "192  1492        Audi  https://ev-database.org/car/1492/Audi-Q4-Sport...   \n",
       "\n",
       "     City - Cold Weather  Highway - Cold Weather  Combined - Cold Weather  \\\n",
       "0                    390                     275                      330   \n",
       "1                    330                     235                      280   \n",
       "2                    400                     305                      350   \n",
       "3                    445                     340                      390   \n",
       "4                    440                     320                      380   \n",
       "..                   ...                     ...                      ...   \n",
       "187                  450                     345                      400   \n",
       "188                  420                     305                      360   \n",
       "189                  390                     290                      340   \n",
       "190                  440                     320                      380   \n",
       "192                  395                     290                      340   \n",
       "\n",
       "     City - Mild Weather  Highway - Mild Weather  Combined - Mild Weather  \\\n",
       "0                    575                     355                      445   \n",
       "1                    480                     300                      375   \n",
       "2                    580                     385                      470   \n",
       "3                    670                     440                      540   \n",
       "4                    660                     415                      520   \n",
       "..                   ...                     ...                      ...   \n",
       "187                  670                     450                      545   \n",
       "188                  620                     395                      490   \n",
       "189                  560                     370                      450   \n",
       "190                  660                     415                      515   \n",
       "192                  580                     370                      460   \n",
       "\n",
       "     Acceleration 0 - 100 km/h  ...  Charge Speed  Fastcharge Speed  Length  \\\n",
       "0                          7.8  ...            49              1020    4515   \n",
       "1                          6.2  ...            46               470    4684   \n",
       "2                          3.2  ...            46              1020    4963   \n",
       "3                          5.7  ...            54               730    4783   \n",
       "4                          7.9  ...            55               570    4261   \n",
       "..                         ...  ...           ...               ...     ...   \n",
       "187                        5.4  ...            53              1170    4963   \n",
       "188                        8.4  ...            52               540    4599   \n",
       "189                        2.8  ...            45               980    4963   \n",
       "190                        7.9  ...            55               570    4261   \n",
       "192                        6.2  ...            49               500    4588   \n",
       "\n",
       "     Width Height  Wheelbase  Gross Vehicle Weight (GVWR)  Max. Payload  \\\n",
       "0     1890   1580       2900                         2495           595   \n",
       "1     1834   1701       2829                         2580           480   \n",
       "2     1966   1381       2900                         2880           575   \n",
       "3     1852   1448       2856                         2605           555   \n",
       "4     1809   1568       2771                         2300           447   \n",
       "..     ...    ...        ...                          ...           ...   \n",
       "187   1966   1394       2900                         2795           665   \n",
       "188   1852   1615       2771                         2540           495   \n",
       "189   1966   1378       2900                         2870           575   \n",
       "190   1809   1568       2771                         2280           420   \n",
       "192   1865   1614       2764                         2715           575   \n",
       "\n",
       "     Cargo Volume  Seats  \n",
       "0             432      5  \n",
       "1             495      7  \n",
       "2             366      4  \n",
       "3             470      5  \n",
       "4             385      5  \n",
       "..            ...    ...  \n",
       "187           407      4  \n",
       "188           549      5  \n",
       "189           366      4  \n",
       "190           385      4  \n",
       "192           535      5  \n",
       "\n",
       "[110 rows x 27 columns]"
      ]
     },
     "execution_count": 20,
     "metadata": {},
     "output_type": "execute_result"
    }
   ],
   "source": [
    "data[data['Charge Speed'] > 44]"
   ]
  },
  {
   "cell_type": "markdown",
   "id": "7621ec67",
   "metadata": {},
   "source": [
    "# Relationship Between Battery Capacity and Electric Range"
   ]
  },
  {
   "cell_type": "code",
   "execution_count": 26,
   "id": "39b8d821",
   "metadata": {},
   "outputs": [
    {
     "data": {
      "application/vnd.plotly.v1+json": {
       "config": {
        "plotlyServerURL": "https://plot.ly"
       },
       "data": [
        {
         "hovertemplate": "Battery Capacity=%{x}<br>Electric Range=%{marker.size}<extra></extra>",
         "legendgroup": "",
         "marker": {
          "color": "#636efa",
          "size": [
           390,
           330,
           415,
           470,
           450,
           275,
           330,
           400,
           400,
           405,
           420,
           330,
           350,
           135,
           350,
           390,
           200,
           200,
           480,
           425,
           380,
           430,
           405,
           180,
           340,
           285,
           385,
           395,
           370,
           295,
           380,
           260,
           605,
           180,
           335,
           175,
           410,
           335,
           350,
           255,
           350,
           265,
           175,
           370,
           375,
           180,
           425,
           260,
           350,
           365,
           565,
           395,
           350,
           365,
           335,
           455,
           295,
           330,
           305,
           170,
           175,
           450,
           180,
           385,
           500,
           355,
           260,
           355,
           605,
           285,
           250,
           235,
           175,
           225,
           340,
           335,
           325,
           330,
           485,
           370,
           265,
           365,
           330,
           395,
           500,
           365,
           175,
           320,
           300,
           270,
           400,
           410,
           285,
           485,
           495,
           265,
           285,
           430,
           250,
           515,
           280,
           230,
           260,
           260,
           305,
           435,
           505,
           405,
           525,
           355,
           175,
           410,
           450,
           380,
           235,
           315,
           425,
           410,
           385,
           195,
           305,
           155,
           385,
           260,
           445,
           485,
           170,
           235,
           270,
           485,
           365,
           395,
           400,
           360,
           420,
           175,
           405,
           175,
           435,
           265,
           445,
           405,
           230,
           385,
           350,
           515,
           255,
           360,
           380,
           440,
           260,
           415,
           260,
           375,
           295,
           640,
           260,
           460,
           180,
           310,
           285,
           180,
           260,
           425,
           345,
           510,
           265,
           425,
           380,
           265,
           425,
           400,
           370,
           330,
           345,
           425,
           180,
           460,
           615,
           265,
           305,
           355,
           435,
           260,
           355,
           345,
           170,
           475,
           430,
           400,
           450,
           195,
           400,
           265
          ],
          "sizemode": "area",
          "sizeref": 1.6,
          "symbol": "circle"
         },
         "mode": "markers",
         "name": "",
         "orientation": "v",
         "showlegend": false,
         "type": "scatter",
         "x": [
          77.4,
          69.7,
          93.4,
          83.9,
          82,
          55,
          62,
          93.4,
          82,
          93.4,
          82,
          69.9,
          78,
          23.8,
          66,
          77.4,
          50,
          50,
          100,
          93.4,
          77.4,
          93.4,
          82,
          50,
          78,
          55,
          80,
          78,
          75,
          55,
          68,
          50,
          120,
          50,
          69.9,
          50,
          82,
          69,
          62,
          50,
          69.7,
          50,
          50,
          77.4,
          73.9,
          50,
          98.7,
          50.3,
          69.7,
          77.4,
          120,
          67.5,
          77.4,
          64,
          66,
          98.7,
          58,
          95,
          100,
          35.5,
          50,
          93.4,
          50,
          82,
          100,
          69.7,
          75,
          68,
          120,
          55,
          42,
          42,
          50,
          43.5,
          62,
          62,
          61.1,
          82,
          111.5,
          85,
          75,
          72.6,
          69,
          79.2,
          100,
          60,
          50,
          95,
          51,
          51.1,
          77.4,
          77.4,
          50,
          120,
          120,
          75,
          55,
          82,
          40,
          100,
          71,
          42,
          75,
          75,
          58,
          98.7,
          111.5,
          93.4,
          100,
          99,
          50,
          82,
          82,
          79.2,
          54.3,
          54.7,
          93.4,
          79.2,
          77.4,
          50,
          100,
          26.8,
          93.4,
          75,
          82,
          100,
          35.5,
          42,
          52,
          82,
          95,
          93.4,
          82,
          76.6,
          93.4,
          50,
          82,
          50,
          82,
          75,
          93.4,
          82,
          42,
          82,
          62,
          100,
          50,
          60,
          90,
          98.7,
          75,
          82,
          75,
          75,
          71,
          120,
          75,
          93.4,
          50,
          54.7,
          50,
          50,
          75,
          93.4,
          62,
          105,
          75,
          78,
          95,
          75,
          82,
          82,
          79.2,
          69.7,
          69.7,
          98.7,
          32.6,
          82,
          120,
          75,
          84,
          75.7,
          83.9,
          75,
          75,
          75.7,
          35.5,
          93.4,
          82,
          93.4,
          82,
          50,
          82,
          75
         ],
         "xaxis": "x",
         "y": [
          390,
          330,
          415,
          470,
          450,
          275,
          330,
          400,
          400,
          405,
          420,
          330,
          350,
          135,
          350,
          390,
          200,
          200,
          480,
          425,
          380,
          430,
          405,
          180,
          340,
          285,
          385,
          395,
          370,
          295,
          380,
          260,
          605,
          180,
          335,
          175,
          410,
          335,
          350,
          255,
          350,
          265,
          175,
          370,
          375,
          180,
          425,
          260,
          350,
          365,
          565,
          395,
          350,
          365,
          335,
          455,
          295,
          330,
          305,
          170,
          175,
          450,
          180,
          385,
          500,
          355,
          260,
          355,
          605,
          285,
          250,
          235,
          175,
          225,
          340,
          335,
          325,
          330,
          485,
          370,
          265,
          365,
          330,
          395,
          500,
          365,
          175,
          320,
          300,
          270,
          400,
          410,
          285,
          485,
          495,
          265,
          285,
          430,
          250,
          515,
          280,
          230,
          260,
          260,
          305,
          435,
          505,
          405,
          525,
          355,
          175,
          410,
          450,
          380,
          235,
          315,
          425,
          410,
          385,
          195,
          305,
          155,
          385,
          260,
          445,
          485,
          170,
          235,
          270,
          485,
          365,
          395,
          400,
          360,
          420,
          175,
          405,
          175,
          435,
          265,
          445,
          405,
          230,
          385,
          350,
          515,
          255,
          360,
          380,
          440,
          260,
          415,
          260,
          375,
          295,
          640,
          260,
          460,
          180,
          310,
          285,
          180,
          260,
          425,
          345,
          510,
          265,
          425,
          380,
          265,
          425,
          400,
          370,
          330,
          345,
          425,
          180,
          460,
          615,
          265,
          305,
          355,
          435,
          260,
          355,
          345,
          170,
          475,
          430,
          400,
          450,
          195,
          400,
          265
         ],
         "yaxis": "y"
        },
        {
         "hovertemplate": "<b>OLS trendline</b><br>Electric Range = 4.34838 * Battery Capacity + 23.5551<br>R<sup>2</sup>=0.744876<br><br>Battery Capacity=%{x}<br>Electric Range=%{y} <b>(trend)</b><extra></extra>",
         "legendgroup": "",
         "marker": {
          "color": "#636efa",
          "symbol": "circle"
         },
         "mode": "lines",
         "name": "",
         "showlegend": false,
         "type": "scatter",
         "x": [
          23.8,
          26.8,
          32.6,
          35.5,
          35.5,
          35.5,
          40,
          42,
          42,
          42,
          42,
          42,
          43.5,
          50,
          50,
          50,
          50,
          50,
          50,
          50,
          50,
          50,
          50,
          50,
          50,
          50,
          50,
          50,
          50,
          50,
          50,
          50,
          50,
          50,
          50,
          50,
          50,
          50.3,
          51,
          51.1,
          52,
          54.3,
          54.7,
          54.7,
          55,
          55,
          55,
          55,
          55,
          58,
          58,
          60,
          60,
          61.1,
          62,
          62,
          62,
          62,
          62,
          62,
          64,
          66,
          66,
          67.5,
          68,
          68,
          69,
          69,
          69.7,
          69.7,
          69.7,
          69.7,
          69.7,
          69.7,
          69.9,
          69.9,
          71,
          71,
          72.6,
          73.9,
          75,
          75,
          75,
          75,
          75,
          75,
          75,
          75,
          75,
          75,
          75,
          75,
          75,
          75,
          75,
          75,
          75,
          75,
          75,
          75.7,
          75.7,
          76.6,
          77.4,
          77.4,
          77.4,
          77.4,
          77.4,
          77.4,
          77.4,
          77.4,
          77.4,
          78,
          78,
          78,
          78,
          79.2,
          79.2,
          79.2,
          79.2,
          80,
          82,
          82,
          82,
          82,
          82,
          82,
          82,
          82,
          82,
          82,
          82,
          82,
          82,
          82,
          82,
          82,
          82,
          82,
          82,
          82,
          82,
          82,
          82,
          82,
          83.9,
          83.9,
          84,
          85,
          90,
          93.4,
          93.4,
          93.4,
          93.4,
          93.4,
          93.4,
          93.4,
          93.4,
          93.4,
          93.4,
          93.4,
          93.4,
          93.4,
          93.4,
          93.4,
          93.4,
          95,
          95,
          95,
          95,
          98.7,
          98.7,
          98.7,
          98.7,
          98.7,
          99,
          100,
          100,
          100,
          100,
          100,
          100,
          100,
          100,
          100,
          105,
          111.5,
          111.5,
          120,
          120,
          120,
          120,
          120,
          120,
          120
         ],
         "xaxis": "x",
         "y": [
          127.04644762223296,
          140.09158136005234,
          165.31217325316985,
          177.9224691997286,
          177.9224691997286,
          177.9224691997286,
          197.4901698064577,
          206.18692563167062,
          206.18692563167062,
          206.18692563167062,
          206.18692563167062,
          206.18692563167062,
          212.7094925005803,
          240.97394893252232,
          240.97394893252232,
          240.97394893252232,
          240.97394893252232,
          240.97394893252232,
          240.97394893252232,
          240.97394893252232,
          240.97394893252232,
          240.97394893252232,
          240.97394893252232,
          240.97394893252232,
          240.97394893252232,
          240.97394893252232,
          240.97394893252232,
          240.97394893252232,
          240.97394893252232,
          240.97394893252232,
          240.97394893252232,
          240.97394893252232,
          240.97394893252232,
          240.97394893252232,
          240.97394893252232,
          240.97394893252232,
          240.97394893252232,
          242.27846230630425,
          245.3223268451288,
          245.75716463638946,
          249.67070475773525,
          259.67197395673014,
          261.41132512177273,
          261.41132512177273,
          262.7158384955547,
          262.7158384955547,
          262.7158384955547,
          262.7158384955547,
          262.7158384955547,
          275.76097223337405,
          275.76097223337405,
          284.457728058587,
          284.457728058587,
          289.24094376245415,
          293.15448388379997,
          293.15448388379997,
          293.15448388379997,
          293.15448388379997,
          293.15448388379997,
          293.15448388379997,
          301.8512397090129,
          310.5479955342258,
          310.5479955342258,
          317.0705624031355,
          319.24475135943874,
          319.24475135943874,
          323.5931292720452,
          323.5931292720452,
          326.63699381086974,
          326.63699381086974,
          326.63699381086974,
          326.63699381086974,
          326.63699381086974,
          326.63699381086974,
          327.50666939339106,
          327.50666939339106,
          332.28988509725815,
          332.28988509725815,
          339.24728975742846,
          344.90018104381693,
          349.683396747684,
          349.683396747684,
          349.683396747684,
          349.683396747684,
          349.683396747684,
          349.683396747684,
          349.683396747684,
          349.683396747684,
          349.683396747684,
          349.683396747684,
          349.683396747684,
          349.683396747684,
          349.683396747684,
          349.683396747684,
          349.683396747684,
          349.683396747684,
          349.683396747684,
          349.683396747684,
          349.683396747684,
          352.7272612865085,
          352.7272612865085,
          356.6408014078543,
          360.1195037379395,
          360.1195037379395,
          360.1195037379395,
          360.1195037379395,
          360.1195037379395,
          360.1195037379395,
          360.1195037379395,
          360.1195037379395,
          360.1195037379395,
          362.72853048550337,
          362.72853048550337,
          362.72853048550337,
          362.72853048550337,
          367.94658398063115,
          367.94658398063115,
          367.94658398063115,
          367.94658398063115,
          371.42528631071633,
          380.12204213592923,
          380.12204213592923,
          380.12204213592923,
          380.12204213592923,
          380.12204213592923,
          380.12204213592923,
          380.12204213592923,
          380.12204213592923,
          380.12204213592923,
          380.12204213592923,
          380.12204213592923,
          380.12204213592923,
          380.12204213592923,
          380.12204213592923,
          380.12204213592923,
          380.12204213592923,
          380.12204213592923,
          380.12204213592923,
          380.12204213592923,
          380.12204213592923,
          380.12204213592923,
          380.12204213592923,
          380.12204213592923,
          380.12204213592923,
          388.38396016988156,
          388.38396016988156,
          388.8187979611422,
          393.16717587374865,
          414.90906543678096,
          429.69355033964297,
          429.69355033964297,
          429.69355033964297,
          429.69355033964297,
          429.69355033964297,
          429.69355033964297,
          429.69355033964297,
          429.69355033964297,
          429.69355033964297,
          429.69355033964297,
          429.69355033964297,
          429.69355033964297,
          429.69355033964297,
          429.69355033964297,
          429.69355033964297,
          429.69355033964297,
          436.6509549998133,
          436.6509549998133,
          436.6509549998133,
          436.6509549998133,
          452.73995327645724,
          452.73995327645724,
          452.73995327645724,
          452.73995327645724,
          452.73995327645724,
          454.04446665023914,
          458.3928445628456,
          458.3928445628456,
          458.3928445628456,
          458.3928445628456,
          458.3928445628456,
          458.3928445628456,
          458.3928445628456,
          458.3928445628456,
          458.3928445628456,
          480.13473412587797,
          508.39919055781996,
          508.39919055781996,
          545.3604028149749,
          545.3604028149749,
          545.3604028149749,
          545.3604028149749,
          545.3604028149749,
          545.3604028149749,
          545.3604028149749
         ],
         "yaxis": "y"
        }
       ],
       "layout": {
        "legend": {
         "itemsizing": "constant",
         "tracegroupgap": 0
        },
        "template": {
         "data": {
          "bar": [
           {
            "error_x": {
             "color": "#2a3f5f"
            },
            "error_y": {
             "color": "#2a3f5f"
            },
            "marker": {
             "line": {
              "color": "#E5ECF6",
              "width": 0.5
             },
             "pattern": {
              "fillmode": "overlay",
              "size": 10,
              "solidity": 0.2
             }
            },
            "type": "bar"
           }
          ],
          "barpolar": [
           {
            "marker": {
             "line": {
              "color": "#E5ECF6",
              "width": 0.5
             },
             "pattern": {
              "fillmode": "overlay",
              "size": 10,
              "solidity": 0.2
             }
            },
            "type": "barpolar"
           }
          ],
          "carpet": [
           {
            "aaxis": {
             "endlinecolor": "#2a3f5f",
             "gridcolor": "white",
             "linecolor": "white",
             "minorgridcolor": "white",
             "startlinecolor": "#2a3f5f"
            },
            "baxis": {
             "endlinecolor": "#2a3f5f",
             "gridcolor": "white",
             "linecolor": "white",
             "minorgridcolor": "white",
             "startlinecolor": "#2a3f5f"
            },
            "type": "carpet"
           }
          ],
          "choropleth": [
           {
            "colorbar": {
             "outlinewidth": 0,
             "ticks": ""
            },
            "type": "choropleth"
           }
          ],
          "contour": [
           {
            "colorbar": {
             "outlinewidth": 0,
             "ticks": ""
            },
            "colorscale": [
             [
              0,
              "#0d0887"
             ],
             [
              0.1111111111111111,
              "#46039f"
             ],
             [
              0.2222222222222222,
              "#7201a8"
             ],
             [
              0.3333333333333333,
              "#9c179e"
             ],
             [
              0.4444444444444444,
              "#bd3786"
             ],
             [
              0.5555555555555556,
              "#d8576b"
             ],
             [
              0.6666666666666666,
              "#ed7953"
             ],
             [
              0.7777777777777778,
              "#fb9f3a"
             ],
             [
              0.8888888888888888,
              "#fdca26"
             ],
             [
              1,
              "#f0f921"
             ]
            ],
            "type": "contour"
           }
          ],
          "contourcarpet": [
           {
            "colorbar": {
             "outlinewidth": 0,
             "ticks": ""
            },
            "type": "contourcarpet"
           }
          ],
          "heatmap": [
           {
            "colorbar": {
             "outlinewidth": 0,
             "ticks": ""
            },
            "colorscale": [
             [
              0,
              "#0d0887"
             ],
             [
              0.1111111111111111,
              "#46039f"
             ],
             [
              0.2222222222222222,
              "#7201a8"
             ],
             [
              0.3333333333333333,
              "#9c179e"
             ],
             [
              0.4444444444444444,
              "#bd3786"
             ],
             [
              0.5555555555555556,
              "#d8576b"
             ],
             [
              0.6666666666666666,
              "#ed7953"
             ],
             [
              0.7777777777777778,
              "#fb9f3a"
             ],
             [
              0.8888888888888888,
              "#fdca26"
             ],
             [
              1,
              "#f0f921"
             ]
            ],
            "type": "heatmap"
           }
          ],
          "heatmapgl": [
           {
            "colorbar": {
             "outlinewidth": 0,
             "ticks": ""
            },
            "colorscale": [
             [
              0,
              "#0d0887"
             ],
             [
              0.1111111111111111,
              "#46039f"
             ],
             [
              0.2222222222222222,
              "#7201a8"
             ],
             [
              0.3333333333333333,
              "#9c179e"
             ],
             [
              0.4444444444444444,
              "#bd3786"
             ],
             [
              0.5555555555555556,
              "#d8576b"
             ],
             [
              0.6666666666666666,
              "#ed7953"
             ],
             [
              0.7777777777777778,
              "#fb9f3a"
             ],
             [
              0.8888888888888888,
              "#fdca26"
             ],
             [
              1,
              "#f0f921"
             ]
            ],
            "type": "heatmapgl"
           }
          ],
          "histogram": [
           {
            "marker": {
             "pattern": {
              "fillmode": "overlay",
              "size": 10,
              "solidity": 0.2
             }
            },
            "type": "histogram"
           }
          ],
          "histogram2d": [
           {
            "colorbar": {
             "outlinewidth": 0,
             "ticks": ""
            },
            "colorscale": [
             [
              0,
              "#0d0887"
             ],
             [
              0.1111111111111111,
              "#46039f"
             ],
             [
              0.2222222222222222,
              "#7201a8"
             ],
             [
              0.3333333333333333,
              "#9c179e"
             ],
             [
              0.4444444444444444,
              "#bd3786"
             ],
             [
              0.5555555555555556,
              "#d8576b"
             ],
             [
              0.6666666666666666,
              "#ed7953"
             ],
             [
              0.7777777777777778,
              "#fb9f3a"
             ],
             [
              0.8888888888888888,
              "#fdca26"
             ],
             [
              1,
              "#f0f921"
             ]
            ],
            "type": "histogram2d"
           }
          ],
          "histogram2dcontour": [
           {
            "colorbar": {
             "outlinewidth": 0,
             "ticks": ""
            },
            "colorscale": [
             [
              0,
              "#0d0887"
             ],
             [
              0.1111111111111111,
              "#46039f"
             ],
             [
              0.2222222222222222,
              "#7201a8"
             ],
             [
              0.3333333333333333,
              "#9c179e"
             ],
             [
              0.4444444444444444,
              "#bd3786"
             ],
             [
              0.5555555555555556,
              "#d8576b"
             ],
             [
              0.6666666666666666,
              "#ed7953"
             ],
             [
              0.7777777777777778,
              "#fb9f3a"
             ],
             [
              0.8888888888888888,
              "#fdca26"
             ],
             [
              1,
              "#f0f921"
             ]
            ],
            "type": "histogram2dcontour"
           }
          ],
          "mesh3d": [
           {
            "colorbar": {
             "outlinewidth": 0,
             "ticks": ""
            },
            "type": "mesh3d"
           }
          ],
          "parcoords": [
           {
            "line": {
             "colorbar": {
              "outlinewidth": 0,
              "ticks": ""
             }
            },
            "type": "parcoords"
           }
          ],
          "pie": [
           {
            "automargin": true,
            "type": "pie"
           }
          ],
          "scatter": [
           {
            "marker": {
             "colorbar": {
              "outlinewidth": 0,
              "ticks": ""
             }
            },
            "type": "scatter"
           }
          ],
          "scatter3d": [
           {
            "line": {
             "colorbar": {
              "outlinewidth": 0,
              "ticks": ""
             }
            },
            "marker": {
             "colorbar": {
              "outlinewidth": 0,
              "ticks": ""
             }
            },
            "type": "scatter3d"
           }
          ],
          "scattercarpet": [
           {
            "marker": {
             "colorbar": {
              "outlinewidth": 0,
              "ticks": ""
             }
            },
            "type": "scattercarpet"
           }
          ],
          "scattergeo": [
           {
            "marker": {
             "colorbar": {
              "outlinewidth": 0,
              "ticks": ""
             }
            },
            "type": "scattergeo"
           }
          ],
          "scattergl": [
           {
            "marker": {
             "colorbar": {
              "outlinewidth": 0,
              "ticks": ""
             }
            },
            "type": "scattergl"
           }
          ],
          "scattermapbox": [
           {
            "marker": {
             "colorbar": {
              "outlinewidth": 0,
              "ticks": ""
             }
            },
            "type": "scattermapbox"
           }
          ],
          "scatterpolar": [
           {
            "marker": {
             "colorbar": {
              "outlinewidth": 0,
              "ticks": ""
             }
            },
            "type": "scatterpolar"
           }
          ],
          "scatterpolargl": [
           {
            "marker": {
             "colorbar": {
              "outlinewidth": 0,
              "ticks": ""
             }
            },
            "type": "scatterpolargl"
           }
          ],
          "scatterternary": [
           {
            "marker": {
             "colorbar": {
              "outlinewidth": 0,
              "ticks": ""
             }
            },
            "type": "scatterternary"
           }
          ],
          "surface": [
           {
            "colorbar": {
             "outlinewidth": 0,
             "ticks": ""
            },
            "colorscale": [
             [
              0,
              "#0d0887"
             ],
             [
              0.1111111111111111,
              "#46039f"
             ],
             [
              0.2222222222222222,
              "#7201a8"
             ],
             [
              0.3333333333333333,
              "#9c179e"
             ],
             [
              0.4444444444444444,
              "#bd3786"
             ],
             [
              0.5555555555555556,
              "#d8576b"
             ],
             [
              0.6666666666666666,
              "#ed7953"
             ],
             [
              0.7777777777777778,
              "#fb9f3a"
             ],
             [
              0.8888888888888888,
              "#fdca26"
             ],
             [
              1,
              "#f0f921"
             ]
            ],
            "type": "surface"
           }
          ],
          "table": [
           {
            "cells": {
             "fill": {
              "color": "#EBF0F8"
             },
             "line": {
              "color": "white"
             }
            },
            "header": {
             "fill": {
              "color": "#C8D4E3"
             },
             "line": {
              "color": "white"
             }
            },
            "type": "table"
           }
          ]
         },
         "layout": {
          "annotationdefaults": {
           "arrowcolor": "#2a3f5f",
           "arrowhead": 0,
           "arrowwidth": 1
          },
          "autotypenumbers": "strict",
          "coloraxis": {
           "colorbar": {
            "outlinewidth": 0,
            "ticks": ""
           }
          },
          "colorscale": {
           "diverging": [
            [
             0,
             "#8e0152"
            ],
            [
             0.1,
             "#c51b7d"
            ],
            [
             0.2,
             "#de77ae"
            ],
            [
             0.3,
             "#f1b6da"
            ],
            [
             0.4,
             "#fde0ef"
            ],
            [
             0.5,
             "#f7f7f7"
            ],
            [
             0.6,
             "#e6f5d0"
            ],
            [
             0.7,
             "#b8e186"
            ],
            [
             0.8,
             "#7fbc41"
            ],
            [
             0.9,
             "#4d9221"
            ],
            [
             1,
             "#276419"
            ]
           ],
           "sequential": [
            [
             0,
             "#0d0887"
            ],
            [
             0.1111111111111111,
             "#46039f"
            ],
            [
             0.2222222222222222,
             "#7201a8"
            ],
            [
             0.3333333333333333,
             "#9c179e"
            ],
            [
             0.4444444444444444,
             "#bd3786"
            ],
            [
             0.5555555555555556,
             "#d8576b"
            ],
            [
             0.6666666666666666,
             "#ed7953"
            ],
            [
             0.7777777777777778,
             "#fb9f3a"
            ],
            [
             0.8888888888888888,
             "#fdca26"
            ],
            [
             1,
             "#f0f921"
            ]
           ],
           "sequentialminus": [
            [
             0,
             "#0d0887"
            ],
            [
             0.1111111111111111,
             "#46039f"
            ],
            [
             0.2222222222222222,
             "#7201a8"
            ],
            [
             0.3333333333333333,
             "#9c179e"
            ],
            [
             0.4444444444444444,
             "#bd3786"
            ],
            [
             0.5555555555555556,
             "#d8576b"
            ],
            [
             0.6666666666666666,
             "#ed7953"
            ],
            [
             0.7777777777777778,
             "#fb9f3a"
            ],
            [
             0.8888888888888888,
             "#fdca26"
            ],
            [
             1,
             "#f0f921"
            ]
           ]
          },
          "colorway": [
           "#636efa",
           "#EF553B",
           "#00cc96",
           "#ab63fa",
           "#FFA15A",
           "#19d3f3",
           "#FF6692",
           "#B6E880",
           "#FF97FF",
           "#FECB52"
          ],
          "font": {
           "color": "#2a3f5f"
          },
          "geo": {
           "bgcolor": "white",
           "lakecolor": "white",
           "landcolor": "#E5ECF6",
           "showlakes": true,
           "showland": true,
           "subunitcolor": "white"
          },
          "hoverlabel": {
           "align": "left"
          },
          "hovermode": "closest",
          "mapbox": {
           "style": "light"
          },
          "paper_bgcolor": "white",
          "plot_bgcolor": "#E5ECF6",
          "polar": {
           "angularaxis": {
            "gridcolor": "white",
            "linecolor": "white",
            "ticks": ""
           },
           "bgcolor": "#E5ECF6",
           "radialaxis": {
            "gridcolor": "white",
            "linecolor": "white",
            "ticks": ""
           }
          },
          "scene": {
           "xaxis": {
            "backgroundcolor": "#E5ECF6",
            "gridcolor": "white",
            "gridwidth": 2,
            "linecolor": "white",
            "showbackground": true,
            "ticks": "",
            "zerolinecolor": "white"
           },
           "yaxis": {
            "backgroundcolor": "#E5ECF6",
            "gridcolor": "white",
            "gridwidth": 2,
            "linecolor": "white",
            "showbackground": true,
            "ticks": "",
            "zerolinecolor": "white"
           },
           "zaxis": {
            "backgroundcolor": "#E5ECF6",
            "gridcolor": "white",
            "gridwidth": 2,
            "linecolor": "white",
            "showbackground": true,
            "ticks": "",
            "zerolinecolor": "white"
           }
          },
          "shapedefaults": {
           "line": {
            "color": "#2a3f5f"
           }
          },
          "ternary": {
           "aaxis": {
            "gridcolor": "white",
            "linecolor": "white",
            "ticks": ""
           },
           "baxis": {
            "gridcolor": "white",
            "linecolor": "white",
            "ticks": ""
           },
           "bgcolor": "#E5ECF6",
           "caxis": {
            "gridcolor": "white",
            "linecolor": "white",
            "ticks": ""
           }
          },
          "title": {
           "x": 0.05
          },
          "xaxis": {
           "automargin": true,
           "gridcolor": "white",
           "linecolor": "white",
           "ticks": "",
           "title": {
            "standoff": 15
           },
           "zerolinecolor": "white",
           "zerolinewidth": 2
          },
          "yaxis": {
           "automargin": true,
           "gridcolor": "white",
           "linecolor": "white",
           "ticks": "",
           "title": {
            "standoff": 15
           },
           "zerolinecolor": "white",
           "zerolinewidth": 2
          }
         }
        },
        "title": {
         "text": "Relationship Between Battery Capacity and Electric Range"
        },
        "xaxis": {
         "anchor": "y",
         "domain": [
          0,
          1
         ],
         "title": {
          "text": "Battery Capacity"
         }
        },
        "yaxis": {
         "anchor": "x",
         "domain": [
          0,
          1
         ],
         "title": {
          "text": "Electric Range"
         }
        }
       }
      },
      "text/html": [
       "<div>                            <div id=\"560eac7a-7513-44dd-9042-ef45b0b484e7\" class=\"plotly-graph-div\" style=\"height:525px; width:100%;\"></div>            <script type=\"text/javascript\">                require([\"plotly\"], function(Plotly) {                    window.PLOTLYENV=window.PLOTLYENV || {};                                    if (document.getElementById(\"560eac7a-7513-44dd-9042-ef45b0b484e7\")) {                    Plotly.newPlot(                        \"560eac7a-7513-44dd-9042-ef45b0b484e7\",                        [{\"hovertemplate\":\"Battery Capacity=%{x}<br>Electric Range=%{marker.size}<extra></extra>\",\"legendgroup\":\"\",\"marker\":{\"color\":\"#636efa\",\"size\":[390,330,415,470,450,275,330,400,400,405,420,330,350,135,350,390,200,200,480,425,380,430,405,180,340,285,385,395,370,295,380,260,605,180,335,175,410,335,350,255,350,265,175,370,375,180,425,260,350,365,565,395,350,365,335,455,295,330,305,170,175,450,180,385,500,355,260,355,605,285,250,235,175,225,340,335,325,330,485,370,265,365,330,395,500,365,175,320,300,270,400,410,285,485,495,265,285,430,250,515,280,230,260,260,305,435,505,405,525,355,175,410,450,380,235,315,425,410,385,195,305,155,385,260,445,485,170,235,270,485,365,395,400,360,420,175,405,175,435,265,445,405,230,385,350,515,255,360,380,440,260,415,260,375,295,640,260,460,180,310,285,180,260,425,345,510,265,425,380,265,425,400,370,330,345,425,180,460,615,265,305,355,435,260,355,345,170,475,430,400,450,195,400,265],\"sizemode\":\"area\",\"sizeref\":1.6,\"symbol\":\"circle\"},\"mode\":\"markers\",\"name\":\"\",\"orientation\":\"v\",\"showlegend\":false,\"x\":[77.4,69.7,93.4,83.9,82.0,55.0,62.0,93.4,82.0,93.4,82.0,69.9,78.0,23.8,66.0,77.4,50.0,50.0,100.0,93.4,77.4,93.4,82.0,50.0,78.0,55.0,80.0,78.0,75.0,55.0,68.0,50.0,120.0,50.0,69.9,50.0,82.0,69.0,62.0,50.0,69.7,50.0,50.0,77.4,73.9,50.0,98.7,50.3,69.7,77.4,120.0,67.5,77.4,64.0,66.0,98.7,58.0,95.0,100.0,35.5,50.0,93.4,50.0,82.0,100.0,69.7,75.0,68.0,120.0,55.0,42.0,42.0,50.0,43.5,62.0,62.0,61.1,82.0,111.5,85.0,75.0,72.6,69.0,79.2,100.0,60.0,50.0,95.0,51.0,51.1,77.4,77.4,50.0,120.0,120.0,75.0,55.0,82.0,40.0,100.0,71.0,42.0,75.0,75.0,58.0,98.7,111.5,93.4,100.0,99.0,50.0,82.0,82.0,79.2,54.3,54.7,93.4,79.2,77.4,50.0,100.0,26.8,93.4,75.0,82.0,100.0,35.5,42.0,52.0,82.0,95.0,93.4,82.0,76.6,93.4,50.0,82.0,50.0,82.0,75.0,93.4,82.0,42.0,82.0,62.0,100.0,50.0,60.0,90.0,98.7,75.0,82.0,75.0,75.0,71.0,120.0,75.0,93.4,50.0,54.7,50.0,50.0,75.0,93.4,62.0,105.0,75.0,78.0,95.0,75.0,82.0,82.0,79.2,69.7,69.7,98.7,32.6,82.0,120.0,75.0,84.0,75.7,83.9,75.0,75.0,75.7,35.5,93.4,82.0,93.4,82.0,50.0,82.0,75.0],\"xaxis\":\"x\",\"y\":[390,330,415,470,450,275,330,400,400,405,420,330,350,135,350,390,200,200,480,425,380,430,405,180,340,285,385,395,370,295,380,260,605,180,335,175,410,335,350,255,350,265,175,370,375,180,425,260,350,365,565,395,350,365,335,455,295,330,305,170,175,450,180,385,500,355,260,355,605,285,250,235,175,225,340,335,325,330,485,370,265,365,330,395,500,365,175,320,300,270,400,410,285,485,495,265,285,430,250,515,280,230,260,260,305,435,505,405,525,355,175,410,450,380,235,315,425,410,385,195,305,155,385,260,445,485,170,235,270,485,365,395,400,360,420,175,405,175,435,265,445,405,230,385,350,515,255,360,380,440,260,415,260,375,295,640,260,460,180,310,285,180,260,425,345,510,265,425,380,265,425,400,370,330,345,425,180,460,615,265,305,355,435,260,355,345,170,475,430,400,450,195,400,265],\"yaxis\":\"y\",\"type\":\"scatter\"},{\"hovertemplate\":\"<b>OLS trendline</b><br>Electric Range = 4.34838 * Battery Capacity + 23.5551<br>R<sup>2</sup>=0.744876<br><br>Battery Capacity=%{x}<br>Electric Range=%{y} <b>(trend)</b><extra></extra>\",\"legendgroup\":\"\",\"marker\":{\"color\":\"#636efa\",\"symbol\":\"circle\"},\"mode\":\"lines\",\"name\":\"\",\"showlegend\":false,\"x\":[23.8,26.8,32.6,35.5,35.5,35.5,40.0,42.0,42.0,42.0,42.0,42.0,43.5,50.0,50.0,50.0,50.0,50.0,50.0,50.0,50.0,50.0,50.0,50.0,50.0,50.0,50.0,50.0,50.0,50.0,50.0,50.0,50.0,50.0,50.0,50.0,50.0,50.3,51.0,51.1,52.0,54.3,54.7,54.7,55.0,55.0,55.0,55.0,55.0,58.0,58.0,60.0,60.0,61.1,62.0,62.0,62.0,62.0,62.0,62.0,64.0,66.0,66.0,67.5,68.0,68.0,69.0,69.0,69.7,69.7,69.7,69.7,69.7,69.7,69.9,69.9,71.0,71.0,72.6,73.9,75.0,75.0,75.0,75.0,75.0,75.0,75.0,75.0,75.0,75.0,75.0,75.0,75.0,75.0,75.0,75.0,75.0,75.0,75.0,75.7,75.7,76.6,77.4,77.4,77.4,77.4,77.4,77.4,77.4,77.4,77.4,78.0,78.0,78.0,78.0,79.2,79.2,79.2,79.2,80.0,82.0,82.0,82.0,82.0,82.0,82.0,82.0,82.0,82.0,82.0,82.0,82.0,82.0,82.0,82.0,82.0,82.0,82.0,82.0,82.0,82.0,82.0,82.0,82.0,83.9,83.9,84.0,85.0,90.0,93.4,93.4,93.4,93.4,93.4,93.4,93.4,93.4,93.4,93.4,93.4,93.4,93.4,93.4,93.4,93.4,95.0,95.0,95.0,95.0,98.7,98.7,98.7,98.7,98.7,99.0,100.0,100.0,100.0,100.0,100.0,100.0,100.0,100.0,100.0,105.0,111.5,111.5,120.0,120.0,120.0,120.0,120.0,120.0,120.0],\"xaxis\":\"x\",\"y\":[127.04644762223296,140.09158136005234,165.31217325316985,177.9224691997286,177.9224691997286,177.9224691997286,197.4901698064577,206.18692563167062,206.18692563167062,206.18692563167062,206.18692563167062,206.18692563167062,212.7094925005803,240.97394893252232,240.97394893252232,240.97394893252232,240.97394893252232,240.97394893252232,240.97394893252232,240.97394893252232,240.97394893252232,240.97394893252232,240.97394893252232,240.97394893252232,240.97394893252232,240.97394893252232,240.97394893252232,240.97394893252232,240.97394893252232,240.97394893252232,240.97394893252232,240.97394893252232,240.97394893252232,240.97394893252232,240.97394893252232,240.97394893252232,240.97394893252232,242.27846230630425,245.3223268451288,245.75716463638946,249.67070475773525,259.67197395673014,261.41132512177273,261.41132512177273,262.7158384955547,262.7158384955547,262.7158384955547,262.7158384955547,262.7158384955547,275.76097223337405,275.76097223337405,284.457728058587,284.457728058587,289.24094376245415,293.15448388379997,293.15448388379997,293.15448388379997,293.15448388379997,293.15448388379997,293.15448388379997,301.8512397090129,310.5479955342258,310.5479955342258,317.0705624031355,319.24475135943874,319.24475135943874,323.5931292720452,323.5931292720452,326.63699381086974,326.63699381086974,326.63699381086974,326.63699381086974,326.63699381086974,326.63699381086974,327.50666939339106,327.50666939339106,332.28988509725815,332.28988509725815,339.24728975742846,344.90018104381693,349.683396747684,349.683396747684,349.683396747684,349.683396747684,349.683396747684,349.683396747684,349.683396747684,349.683396747684,349.683396747684,349.683396747684,349.683396747684,349.683396747684,349.683396747684,349.683396747684,349.683396747684,349.683396747684,349.683396747684,349.683396747684,349.683396747684,352.7272612865085,352.7272612865085,356.6408014078543,360.1195037379395,360.1195037379395,360.1195037379395,360.1195037379395,360.1195037379395,360.1195037379395,360.1195037379395,360.1195037379395,360.1195037379395,362.72853048550337,362.72853048550337,362.72853048550337,362.72853048550337,367.94658398063115,367.94658398063115,367.94658398063115,367.94658398063115,371.42528631071633,380.12204213592923,380.12204213592923,380.12204213592923,380.12204213592923,380.12204213592923,380.12204213592923,380.12204213592923,380.12204213592923,380.12204213592923,380.12204213592923,380.12204213592923,380.12204213592923,380.12204213592923,380.12204213592923,380.12204213592923,380.12204213592923,380.12204213592923,380.12204213592923,380.12204213592923,380.12204213592923,380.12204213592923,380.12204213592923,380.12204213592923,380.12204213592923,388.38396016988156,388.38396016988156,388.8187979611422,393.16717587374865,414.90906543678096,429.69355033964297,429.69355033964297,429.69355033964297,429.69355033964297,429.69355033964297,429.69355033964297,429.69355033964297,429.69355033964297,429.69355033964297,429.69355033964297,429.69355033964297,429.69355033964297,429.69355033964297,429.69355033964297,429.69355033964297,429.69355033964297,436.6509549998133,436.6509549998133,436.6509549998133,436.6509549998133,452.73995327645724,452.73995327645724,452.73995327645724,452.73995327645724,452.73995327645724,454.04446665023914,458.3928445628456,458.3928445628456,458.3928445628456,458.3928445628456,458.3928445628456,458.3928445628456,458.3928445628456,458.3928445628456,458.3928445628456,480.13473412587797,508.39919055781996,508.39919055781996,545.3604028149749,545.3604028149749,545.3604028149749,545.3604028149749,545.3604028149749,545.3604028149749,545.3604028149749],\"yaxis\":\"y\",\"type\":\"scatter\"}],                        {\"template\":{\"data\":{\"bar\":[{\"error_x\":{\"color\":\"#2a3f5f\"},\"error_y\":{\"color\":\"#2a3f5f\"},\"marker\":{\"line\":{\"color\":\"#E5ECF6\",\"width\":0.5},\"pattern\":{\"fillmode\":\"overlay\",\"size\":10,\"solidity\":0.2}},\"type\":\"bar\"}],\"barpolar\":[{\"marker\":{\"line\":{\"color\":\"#E5ECF6\",\"width\":0.5},\"pattern\":{\"fillmode\":\"overlay\",\"size\":10,\"solidity\":0.2}},\"type\":\"barpolar\"}],\"carpet\":[{\"aaxis\":{\"endlinecolor\":\"#2a3f5f\",\"gridcolor\":\"white\",\"linecolor\":\"white\",\"minorgridcolor\":\"white\",\"startlinecolor\":\"#2a3f5f\"},\"baxis\":{\"endlinecolor\":\"#2a3f5f\",\"gridcolor\":\"white\",\"linecolor\":\"white\",\"minorgridcolor\":\"white\",\"startlinecolor\":\"#2a3f5f\"},\"type\":\"carpet\"}],\"choropleth\":[{\"colorbar\":{\"outlinewidth\":0,\"ticks\":\"\"},\"type\":\"choropleth\"}],\"contour\":[{\"colorbar\":{\"outlinewidth\":0,\"ticks\":\"\"},\"colorscale\":[[0.0,\"#0d0887\"],[0.1111111111111111,\"#46039f\"],[0.2222222222222222,\"#7201a8\"],[0.3333333333333333,\"#9c179e\"],[0.4444444444444444,\"#bd3786\"],[0.5555555555555556,\"#d8576b\"],[0.6666666666666666,\"#ed7953\"],[0.7777777777777778,\"#fb9f3a\"],[0.8888888888888888,\"#fdca26\"],[1.0,\"#f0f921\"]],\"type\":\"contour\"}],\"contourcarpet\":[{\"colorbar\":{\"outlinewidth\":0,\"ticks\":\"\"},\"type\":\"contourcarpet\"}],\"heatmap\":[{\"colorbar\":{\"outlinewidth\":0,\"ticks\":\"\"},\"colorscale\":[[0.0,\"#0d0887\"],[0.1111111111111111,\"#46039f\"],[0.2222222222222222,\"#7201a8\"],[0.3333333333333333,\"#9c179e\"],[0.4444444444444444,\"#bd3786\"],[0.5555555555555556,\"#d8576b\"],[0.6666666666666666,\"#ed7953\"],[0.7777777777777778,\"#fb9f3a\"],[0.8888888888888888,\"#fdca26\"],[1.0,\"#f0f921\"]],\"type\":\"heatmap\"}],\"heatmapgl\":[{\"colorbar\":{\"outlinewidth\":0,\"ticks\":\"\"},\"colorscale\":[[0.0,\"#0d0887\"],[0.1111111111111111,\"#46039f\"],[0.2222222222222222,\"#7201a8\"],[0.3333333333333333,\"#9c179e\"],[0.4444444444444444,\"#bd3786\"],[0.5555555555555556,\"#d8576b\"],[0.6666666666666666,\"#ed7953\"],[0.7777777777777778,\"#fb9f3a\"],[0.8888888888888888,\"#fdca26\"],[1.0,\"#f0f921\"]],\"type\":\"heatmapgl\"}],\"histogram\":[{\"marker\":{\"pattern\":{\"fillmode\":\"overlay\",\"size\":10,\"solidity\":0.2}},\"type\":\"histogram\"}],\"histogram2d\":[{\"colorbar\":{\"outlinewidth\":0,\"ticks\":\"\"},\"colorscale\":[[0.0,\"#0d0887\"],[0.1111111111111111,\"#46039f\"],[0.2222222222222222,\"#7201a8\"],[0.3333333333333333,\"#9c179e\"],[0.4444444444444444,\"#bd3786\"],[0.5555555555555556,\"#d8576b\"],[0.6666666666666666,\"#ed7953\"],[0.7777777777777778,\"#fb9f3a\"],[0.8888888888888888,\"#fdca26\"],[1.0,\"#f0f921\"]],\"type\":\"histogram2d\"}],\"histogram2dcontour\":[{\"colorbar\":{\"outlinewidth\":0,\"ticks\":\"\"},\"colorscale\":[[0.0,\"#0d0887\"],[0.1111111111111111,\"#46039f\"],[0.2222222222222222,\"#7201a8\"],[0.3333333333333333,\"#9c179e\"],[0.4444444444444444,\"#bd3786\"],[0.5555555555555556,\"#d8576b\"],[0.6666666666666666,\"#ed7953\"],[0.7777777777777778,\"#fb9f3a\"],[0.8888888888888888,\"#fdca26\"],[1.0,\"#f0f921\"]],\"type\":\"histogram2dcontour\"}],\"mesh3d\":[{\"colorbar\":{\"outlinewidth\":0,\"ticks\":\"\"},\"type\":\"mesh3d\"}],\"parcoords\":[{\"line\":{\"colorbar\":{\"outlinewidth\":0,\"ticks\":\"\"}},\"type\":\"parcoords\"}],\"pie\":[{\"automargin\":true,\"type\":\"pie\"}],\"scatter\":[{\"marker\":{\"colorbar\":{\"outlinewidth\":0,\"ticks\":\"\"}},\"type\":\"scatter\"}],\"scatter3d\":[{\"line\":{\"colorbar\":{\"outlinewidth\":0,\"ticks\":\"\"}},\"marker\":{\"colorbar\":{\"outlinewidth\":0,\"ticks\":\"\"}},\"type\":\"scatter3d\"}],\"scattercarpet\":[{\"marker\":{\"colorbar\":{\"outlinewidth\":0,\"ticks\":\"\"}},\"type\":\"scattercarpet\"}],\"scattergeo\":[{\"marker\":{\"colorbar\":{\"outlinewidth\":0,\"ticks\":\"\"}},\"type\":\"scattergeo\"}],\"scattergl\":[{\"marker\":{\"colorbar\":{\"outlinewidth\":0,\"ticks\":\"\"}},\"type\":\"scattergl\"}],\"scattermapbox\":[{\"marker\":{\"colorbar\":{\"outlinewidth\":0,\"ticks\":\"\"}},\"type\":\"scattermapbox\"}],\"scatterpolar\":[{\"marker\":{\"colorbar\":{\"outlinewidth\":0,\"ticks\":\"\"}},\"type\":\"scatterpolar\"}],\"scatterpolargl\":[{\"marker\":{\"colorbar\":{\"outlinewidth\":0,\"ticks\":\"\"}},\"type\":\"scatterpolargl\"}],\"scatterternary\":[{\"marker\":{\"colorbar\":{\"outlinewidth\":0,\"ticks\":\"\"}},\"type\":\"scatterternary\"}],\"surface\":[{\"colorbar\":{\"outlinewidth\":0,\"ticks\":\"\"},\"colorscale\":[[0.0,\"#0d0887\"],[0.1111111111111111,\"#46039f\"],[0.2222222222222222,\"#7201a8\"],[0.3333333333333333,\"#9c179e\"],[0.4444444444444444,\"#bd3786\"],[0.5555555555555556,\"#d8576b\"],[0.6666666666666666,\"#ed7953\"],[0.7777777777777778,\"#fb9f3a\"],[0.8888888888888888,\"#fdca26\"],[1.0,\"#f0f921\"]],\"type\":\"surface\"}],\"table\":[{\"cells\":{\"fill\":{\"color\":\"#EBF0F8\"},\"line\":{\"color\":\"white\"}},\"header\":{\"fill\":{\"color\":\"#C8D4E3\"},\"line\":{\"color\":\"white\"}},\"type\":\"table\"}]},\"layout\":{\"annotationdefaults\":{\"arrowcolor\":\"#2a3f5f\",\"arrowhead\":0,\"arrowwidth\":1},\"autotypenumbers\":\"strict\",\"coloraxis\":{\"colorbar\":{\"outlinewidth\":0,\"ticks\":\"\"}},\"colorscale\":{\"diverging\":[[0,\"#8e0152\"],[0.1,\"#c51b7d\"],[0.2,\"#de77ae\"],[0.3,\"#f1b6da\"],[0.4,\"#fde0ef\"],[0.5,\"#f7f7f7\"],[0.6,\"#e6f5d0\"],[0.7,\"#b8e186\"],[0.8,\"#7fbc41\"],[0.9,\"#4d9221\"],[1,\"#276419\"]],\"sequential\":[[0.0,\"#0d0887\"],[0.1111111111111111,\"#46039f\"],[0.2222222222222222,\"#7201a8\"],[0.3333333333333333,\"#9c179e\"],[0.4444444444444444,\"#bd3786\"],[0.5555555555555556,\"#d8576b\"],[0.6666666666666666,\"#ed7953\"],[0.7777777777777778,\"#fb9f3a\"],[0.8888888888888888,\"#fdca26\"],[1.0,\"#f0f921\"]],\"sequentialminus\":[[0.0,\"#0d0887\"],[0.1111111111111111,\"#46039f\"],[0.2222222222222222,\"#7201a8\"],[0.3333333333333333,\"#9c179e\"],[0.4444444444444444,\"#bd3786\"],[0.5555555555555556,\"#d8576b\"],[0.6666666666666666,\"#ed7953\"],[0.7777777777777778,\"#fb9f3a\"],[0.8888888888888888,\"#fdca26\"],[1.0,\"#f0f921\"]]},\"colorway\":[\"#636efa\",\"#EF553B\",\"#00cc96\",\"#ab63fa\",\"#FFA15A\",\"#19d3f3\",\"#FF6692\",\"#B6E880\",\"#FF97FF\",\"#FECB52\"],\"font\":{\"color\":\"#2a3f5f\"},\"geo\":{\"bgcolor\":\"white\",\"lakecolor\":\"white\",\"landcolor\":\"#E5ECF6\",\"showlakes\":true,\"showland\":true,\"subunitcolor\":\"white\"},\"hoverlabel\":{\"align\":\"left\"},\"hovermode\":\"closest\",\"mapbox\":{\"style\":\"light\"},\"paper_bgcolor\":\"white\",\"plot_bgcolor\":\"#E5ECF6\",\"polar\":{\"angularaxis\":{\"gridcolor\":\"white\",\"linecolor\":\"white\",\"ticks\":\"\"},\"bgcolor\":\"#E5ECF6\",\"radialaxis\":{\"gridcolor\":\"white\",\"linecolor\":\"white\",\"ticks\":\"\"}},\"scene\":{\"xaxis\":{\"backgroundcolor\":\"#E5ECF6\",\"gridcolor\":\"white\",\"gridwidth\":2,\"linecolor\":\"white\",\"showbackground\":true,\"ticks\":\"\",\"zerolinecolor\":\"white\"},\"yaxis\":{\"backgroundcolor\":\"#E5ECF6\",\"gridcolor\":\"white\",\"gridwidth\":2,\"linecolor\":\"white\",\"showbackground\":true,\"ticks\":\"\",\"zerolinecolor\":\"white\"},\"zaxis\":{\"backgroundcolor\":\"#E5ECF6\",\"gridcolor\":\"white\",\"gridwidth\":2,\"linecolor\":\"white\",\"showbackground\":true,\"ticks\":\"\",\"zerolinecolor\":\"white\"}},\"shapedefaults\":{\"line\":{\"color\":\"#2a3f5f\"}},\"ternary\":{\"aaxis\":{\"gridcolor\":\"white\",\"linecolor\":\"white\",\"ticks\":\"\"},\"baxis\":{\"gridcolor\":\"white\",\"linecolor\":\"white\",\"ticks\":\"\"},\"bgcolor\":\"#E5ECF6\",\"caxis\":{\"gridcolor\":\"white\",\"linecolor\":\"white\",\"ticks\":\"\"}},\"title\":{\"x\":0.05},\"xaxis\":{\"automargin\":true,\"gridcolor\":\"white\",\"linecolor\":\"white\",\"ticks\":\"\",\"title\":{\"standoff\":15},\"zerolinecolor\":\"white\",\"zerolinewidth\":2},\"yaxis\":{\"automargin\":true,\"gridcolor\":\"white\",\"linecolor\":\"white\",\"ticks\":\"\",\"title\":{\"standoff\":15},\"zerolinecolor\":\"white\",\"zerolinewidth\":2}}},\"xaxis\":{\"anchor\":\"y\",\"domain\":[0.0,1.0],\"title\":{\"text\":\"Battery Capacity\"}},\"yaxis\":{\"anchor\":\"x\",\"domain\":[0.0,1.0],\"title\":{\"text\":\"Electric Range\"}},\"legend\":{\"tracegroupgap\":0,\"itemsizing\":\"constant\"},\"title\":{\"text\":\"Relationship Between Battery Capacity and Electric Range\"}},                        {\"responsive\": true}                    ).then(function(){\n",
       "                            \n",
       "var gd = document.getElementById('560eac7a-7513-44dd-9042-ef45b0b484e7');\n",
       "var x = new MutationObserver(function (mutations, observer) {{\n",
       "        var display = window.getComputedStyle(gd).display;\n",
       "        if (!display || display === 'none') {{\n",
       "            console.log([gd, 'removed!']);\n",
       "            Plotly.purge(gd);\n",
       "            observer.disconnect();\n",
       "        }}\n",
       "}});\n",
       "\n",
       "// Listen for the removal of the full notebook cells\n",
       "var notebookContainer = gd.closest('#notebook-container');\n",
       "if (notebookContainer) {{\n",
       "    x.observe(notebookContainer, {childList: true});\n",
       "}}\n",
       "\n",
       "// Listen for the clearing of the current output cell\n",
       "var outputEl = gd.closest('.output');\n",
       "if (outputEl) {{\n",
       "    x.observe(outputEl, {childList: true});\n",
       "}}\n",
       "\n",
       "                        })                };                });            </script>        </div>"
      ]
     },
     "metadata": {},
     "output_type": "display_data"
    }
   ],
   "source": [
    "figure = px.scatter(data_frame = data, x=\"Battery Capacity\",\n",
    "                    y=\"Electric Range\", size=\"Electric Range\", trendline=\"ols\", \n",
    "                    title = \"Relationship Between Battery Capacity and Electric Range\")\n",
    "figure.show()"
   ]
  },
  {
   "cell_type": "markdown",
   "id": "595e92ed",
   "metadata": {},
   "source": [
    "# Best EV Car for Long Range"
   ]
  },
  {
   "cell_type": "code",
   "execution_count": 47,
   "id": "759696e2",
   "metadata": {},
   "outputs": [
    {
     "data": {
      "text/plain": [
       "array(['BMW', 'Volkswagen', 'Skoda', 'Mercedes', 'CUPRA', 'Tesla',\n",
       "       'Porsche', 'Audi'], dtype=object)"
      ]
     },
     "execution_count": 47,
     "metadata": {},
     "output_type": "execute_result"
    }
   ],
   "source": [
    "long_range = data[(data['Electric Range'] > 300) & (data['Charge Speed'] > 50) & (data['Battery Capacity'] > 80)]\n",
    "long_range['Make'].unique()"
   ]
  },
  {
   "cell_type": "markdown",
   "id": "66628284",
   "metadata": {},
   "source": [
    "# Correlation Between Variables"
   ]
  },
  {
   "cell_type": "code",
   "execution_count": 51,
   "id": "68168fea",
   "metadata": {},
   "outputs": [
    {
     "data": {
      "text/plain": [
       "[Text(0.5, 0, 'Acceleration 0 - 100 km/h'),\n",
       " Text(1.5, 0, 'Top Speed'),\n",
       " Text(2.5, 0, 'Electric Range'),\n",
       " Text(3.5, 0, 'Total Power'),\n",
       " Text(4.5, 0, 'Total Torque'),\n",
       " Text(5.5, 0, 'Battery Capacity'),\n",
       " Text(6.5, 0, 'Charge Power'),\n",
       " Text(7.5, 0, 'Charge Speed'),\n",
       " Text(8.5, 0, 'Fastcharge Speed'),\n",
       " Text(9.5, 0, 'Length'),\n",
       " Text(10.5, 0, 'Width'),\n",
       " Text(11.5, 0, 'Height'),\n",
       " Text(12.5, 0, 'Wheelbase'),\n",
       " Text(13.5, 0, 'Gross Vehicle Weight (GVWR)'),\n",
       " Text(14.5, 0, 'Max. Payload'),\n",
       " Text(15.5, 0, 'Cargo Volume'),\n",
       " Text(16.5, 0, 'Seats')]"
      ]
     },
     "execution_count": 51,
     "metadata": {},
     "output_type": "execute_result"
    },
    {
     "data": {
      "image/png": "[encoded data removed]",
      "text/plain": [
       "<Figure size 1008x432 with 2 Axes>"
      ]
     },
     "metadata": {
      "needs_background": "light"
     },
     "output_type": "display_data"
    }
   ],
   "source": [
    "corr_df = data.drop(['link','id','Drive','City - Cold Weather','Highway - Cold Weather','Combined - Cold Weather','City - Mild Weather','Highway - Mild Weather','Combined - Mild Weather'],axis=1).corr(method='pearson') #remove column & pearson correlation method\n",
    "plt.figure(figsize=(14,6))\n",
    "heatmap = sns.heatmap(corr_df, annot=True, fmt='.1g', vmin=-1, vmax=1, center=0,cmap='inferno',linewidths=1, linecolor='Black')\n",
    "heatmap.set_title('Correlation Heatmap Between Variable')\n",
    "heatmap.set_xticklabels(heatmap.get_xticklabels(), rotation=90)"
   ]
  },
  {
   "cell_type": "code",
   "execution_count": null,
   "id": "a2af1522",
   "metadata": {},
   "outputs": [],
   "source": []
  }
 ],
 "metadata": {
  "kernelspec": {
   "display_name": "Python 3 (ipykernel)",
   "language": "python",
   "name": "python3"
  },
  "language_info": {
   "codemirror_mode": {
    "name": "ipython",
    "version": 3
   },
   "file_extension": ".py",
   "mimetype": "text/x-python",
   "name": "python",
   "nbconvert_exporter": "python",
   "pygments_lexer": "ipython3",
   "version": "3.9.12"
  }
 },
 "nbformat": 4,
 "nbformat_minor": 5
}
